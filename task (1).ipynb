{
 "cells": [
  {
   "cell_type": "code",
   "execution_count": null,
   "metadata": {},
   "outputs": [],
   "source": [
    "#Task1\n",
    "\n",
    "list1=[5,6,1,6,8,9,100,11,4,2]\n",
    "list1.sort()\n",
    "print('larg number is ',list1[len(list1)-1])\n",
    "\n",
    "#Task2\n",
    "\n",
    "print('second larg number is ',list1[len(list1)-2])\n",
    "\n",
    "#Task3\n",
    "\n",
    "list2=[66,8,3,4,6,9,0,1,5]\n",
    "marglist=list1+list2\n",
    "marglist\n",
    "marglist.sort()\n",
    "print('after sorted ',marglist)\n",
    "#Task4\n",
    "marglist[0],marglist[len(marglist)-1]=marglist[len(marglist)-1],marglist[0]\n",
    "print('after swap ',marglist)\n"
   ]
  }
 ],
 "metadata": {
  "kernelspec": {
   "display_name": "Python 3",
   "language": "python",
   "name": "python3"
  },
  "language_info": {
   "codemirror_mode": {
    "name": "ipython",
    "version": 3
   },
   "file_extension": ".py",
   "mimetype": "text/x-python",
   "name": "python",
   "nbconvert_exporter": "python",
   "pygments_lexer": "ipython3",
   "version": "3.8.3"
  }
 },
 "nbformat": 4,
 "nbformat_minor": 4
}
